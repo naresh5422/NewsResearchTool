{
 "cells": [
  {
   "cell_type": "code",
   "execution_count": 1,
   "id": "bf3fd8cb",
   "metadata": {},
   "outputs": [
    {
     "name": "stderr",
     "output_type": "stream",
     "text": [
      "'grep' is not recognized as an internal or external command,\n",
      "operable program or batch file.\n"
     ]
    }
   ],
   "source": [
    "! pip freeze | grep langchain"
   ]
  },
  {
   "cell_type": "code",
   "execution_count": 2,
   "id": "0f400638",
   "metadata": {},
   "outputs": [
    {
     "name": "stdout",
     "output_type": "stream",
     "text": [
      "Python 3.11.7\n"
     ]
    }
   ],
   "source": [
    "! python --version\n"
   ]
  },
  {
   "cell_type": "code",
   "execution_count": 3,
   "id": "d14e79a3",
   "metadata": {},
   "outputs": [
    {
     "name": "stdout",
     "output_type": "stream",
     "text": [
      "Requirement already satisfied: langchain-community in c:\\users\\nares\\anaconda3\\lib\\site-packages (0.3.27)\n",
      "Requirement already satisfied: langchain-core<1.0.0,>=0.3.66 in c:\\users\\nares\\anaconda3\\lib\\site-packages (from langchain-community) (0.3.74)\n",
      "Requirement already satisfied: langchain<1.0.0,>=0.3.26 in c:\\users\\nares\\anaconda3\\lib\\site-packages (from langchain-community) (0.3.27)\n",
      "Requirement already satisfied: SQLAlchemy<3,>=1.4 in c:\\users\\nares\\anaconda3\\lib\\site-packages (from langchain-community) (2.0.25)\n",
      "Requirement already satisfied: requests<3,>=2 in c:\\users\\nares\\anaconda3\\lib\\site-packages (from langchain-community) (2.31.0)\n",
      "Requirement already satisfied: PyYAML>=5.3 in c:\\users\\nares\\anaconda3\\lib\\site-packages (from langchain-community) (6.0.1)\n",
      "Requirement already satisfied: aiohttp<4.0.0,>=3.8.3 in c:\\users\\nares\\anaconda3\\lib\\site-packages (from langchain-community) (3.9.3)\n",
      "Requirement already satisfied: tenacity!=8.4.0,<10,>=8.1.0 in c:\\users\\nares\\anaconda3\\lib\\site-packages (from langchain-community) (8.2.2)\n",
      "Requirement already satisfied: dataclasses-json<0.7,>=0.5.7 in c:\\users\\nares\\anaconda3\\lib\\site-packages (from langchain-community) (0.6.7)\n",
      "Requirement already satisfied: pydantic-settings<3.0.0,>=2.4.0 in c:\\users\\nares\\anaconda3\\lib\\site-packages (from langchain-community) (2.10.1)\n",
      "Requirement already satisfied: langsmith>=0.1.125 in c:\\users\\nares\\anaconda3\\lib\\site-packages (from langchain-community) (0.4.13)\n",
      "Requirement already satisfied: httpx-sse<1.0.0,>=0.4.0 in c:\\users\\nares\\anaconda3\\lib\\site-packages (from langchain-community) (0.4.1)\n",
      "Requirement already satisfied: numpy>=1.26.2 in c:\\users\\nares\\anaconda3\\lib\\site-packages (from langchain-community) (1.26.4)\n",
      "Requirement already satisfied: aiosignal>=1.1.2 in c:\\users\\nares\\anaconda3\\lib\\site-packages (from aiohttp<4.0.0,>=3.8.3->langchain-community) (1.2.0)\n",
      "Requirement already satisfied: attrs>=17.3.0 in c:\\users\\nares\\anaconda3\\lib\\site-packages (from aiohttp<4.0.0,>=3.8.3->langchain-community) (25.3.0)\n",
      "Requirement already satisfied: frozenlist>=1.1.1 in c:\\users\\nares\\anaconda3\\lib\\site-packages (from aiohttp<4.0.0,>=3.8.3->langchain-community) (1.4.0)\n",
      "Requirement already satisfied: multidict<7.0,>=4.5 in c:\\users\\nares\\anaconda3\\lib\\site-packages (from aiohttp<4.0.0,>=3.8.3->langchain-community) (6.0.4)\n",
      "Requirement already satisfied: yarl<2.0,>=1.0 in c:\\users\\nares\\anaconda3\\lib\\site-packages (from aiohttp<4.0.0,>=3.8.3->langchain-community) (1.9.3)\n",
      "Requirement already satisfied: marshmallow<4.0.0,>=3.18.0 in c:\\users\\nares\\anaconda3\\lib\\site-packages (from dataclasses-json<0.7,>=0.5.7->langchain-community) (3.26.1)\n",
      "Requirement already satisfied: typing-inspect<1,>=0.4.0 in c:\\users\\nares\\anaconda3\\lib\\site-packages (from dataclasses-json<0.7,>=0.5.7->langchain-community) (0.9.0)\n",
      "Requirement already satisfied: langchain-text-splitters<1.0.0,>=0.3.9 in c:\\users\\nares\\anaconda3\\lib\\site-packages (from langchain<1.0.0,>=0.3.26->langchain-community) (0.3.9)\n",
      "Requirement already satisfied: pydantic<3.0.0,>=2.7.4 in c:\\users\\nares\\anaconda3\\lib\\site-packages (from langchain<1.0.0,>=0.3.26->langchain-community) (2.11.7)\n",
      "Requirement already satisfied: jsonpatch<2.0,>=1.33 in c:\\users\\nares\\anaconda3\\lib\\site-packages (from langchain-core<1.0.0,>=0.3.66->langchain-community) (1.33)\n",
      "Requirement already satisfied: typing-extensions>=4.7 in c:\\users\\nares\\anaconda3\\lib\\site-packages (from langchain-core<1.0.0,>=0.3.66->langchain-community) (4.14.1)\n",
      "Requirement already satisfied: packaging>=23.2 in c:\\users\\nares\\anaconda3\\lib\\site-packages (from langchain-core<1.0.0,>=0.3.66->langchain-community) (25.0)\n",
      "Requirement already satisfied: httpx<1,>=0.23.0 in c:\\users\\nares\\anaconda3\\lib\\site-packages (from langsmith>=0.1.125->langchain-community) (0.27.0)\n",
      "Requirement already satisfied: orjson>=3.9.14 in c:\\users\\nares\\anaconda3\\lib\\site-packages (from langsmith>=0.1.125->langchain-community) (3.11.1)\n",
      "Requirement already satisfied: requests-toolbelt>=1.0.0 in c:\\users\\nares\\anaconda3\\lib\\site-packages (from langsmith>=0.1.125->langchain-community) (1.0.0)\n",
      "Requirement already satisfied: zstandard>=0.23.0 in c:\\users\\nares\\anaconda3\\lib\\site-packages (from langsmith>=0.1.125->langchain-community) (0.23.0)\n",
      "Requirement already satisfied: python-dotenv>=0.21.0 in c:\\users\\nares\\anaconda3\\lib\\site-packages (from pydantic-settings<3.0.0,>=2.4.0->langchain-community) (0.21.0)\n",
      "Requirement already satisfied: typing-inspection>=0.4.0 in c:\\users\\nares\\anaconda3\\lib\\site-packages (from pydantic-settings<3.0.0,>=2.4.0->langchain-community) (0.4.1)\n",
      "Requirement already satisfied: charset-normalizer<4,>=2 in c:\\users\\nares\\anaconda3\\lib\\site-packages (from requests<3,>=2->langchain-community) (2.0.4)\n",
      "Requirement already satisfied: idna<4,>=2.5 in c:\\users\\nares\\anaconda3\\lib\\site-packages (from requests<3,>=2->langchain-community) (3.4)\n",
      "Requirement already satisfied: urllib3<3,>=1.21.1 in c:\\users\\nares\\anaconda3\\lib\\site-packages (from requests<3,>=2->langchain-community) (2.5.0)\n",
      "Requirement already satisfied: certifi>=2017.4.17 in c:\\users\\nares\\anaconda3\\lib\\site-packages (from requests<3,>=2->langchain-community) (2025.8.3)\n",
      "Requirement already satisfied: greenlet!=0.4.17 in c:\\users\\nares\\anaconda3\\lib\\site-packages (from SQLAlchemy<3,>=1.4->langchain-community) (3.0.1)\n",
      "Requirement already satisfied: anyio in c:\\users\\nares\\anaconda3\\lib\\site-packages (from httpx<1,>=0.23.0->langsmith>=0.1.125->langchain-community) (4.2.0)\n",
      "Requirement already satisfied: httpcore==1.* in c:\\users\\nares\\anaconda3\\lib\\site-packages (from httpx<1,>=0.23.0->langsmith>=0.1.125->langchain-community) (1.0.9)\n",
      "Requirement already satisfied: sniffio in c:\\users\\nares\\anaconda3\\lib\\site-packages (from httpx<1,>=0.23.0->langsmith>=0.1.125->langchain-community) (1.3.0)\n",
      "Requirement already satisfied: h11>=0.16 in c:\\users\\nares\\anaconda3\\lib\\site-packages (from httpcore==1.*->httpx<1,>=0.23.0->langsmith>=0.1.125->langchain-community) (0.16.0)\n",
      "Requirement already satisfied: jsonpointer>=1.9 in c:\\users\\nares\\anaconda3\\lib\\site-packages (from jsonpatch<2.0,>=1.33->langchain-core<1.0.0,>=0.3.66->langchain-community) (2.1)\n",
      "Requirement already satisfied: annotated-types>=0.6.0 in c:\\users\\nares\\anaconda3\\lib\\site-packages (from pydantic<3.0.0,>=2.7.4->langchain<1.0.0,>=0.3.26->langchain-community) (0.7.0)\n",
      "Requirement already satisfied: pydantic-core==2.33.2 in c:\\users\\nares\\anaconda3\\lib\\site-packages (from pydantic<3.0.0,>=2.7.4->langchain<1.0.0,>=0.3.26->langchain-community) (2.33.2)\n",
      "Requirement already satisfied: mypy-extensions>=0.3.0 in c:\\users\\nares\\anaconda3\\lib\\site-packages (from typing-inspect<1,>=0.4.0->dataclasses-json<0.7,>=0.5.7->langchain-community) (1.0.0)\n",
      "Note: you may need to restart the kernel to use updated packages.\n"
     ]
    }
   ],
   "source": [
    "pip install --upgrade langchain-community"
   ]
  },
  {
   "cell_type": "code",
   "execution_count": 4,
   "id": "49630f61",
   "metadata": {},
   "outputs": [
    {
     "name": "stdout",
     "output_type": "stream",
     "text": [
      "['d:\\\\All_Projects\\\\NewsResearchTool\\\\Code', 'c:\\\\Users\\\\nares\\\\anaconda3\\\\python311.zip', 'c:\\\\Users\\\\nares\\\\anaconda3\\\\DLLs', 'c:\\\\Users\\\\nares\\\\anaconda3\\\\Lib', 'c:\\\\Users\\\\nares\\\\anaconda3', '', 'C:\\\\Users\\\\nares\\\\AppData\\\\Roaming\\\\Python\\\\Python311\\\\site-packages', 'c:\\\\Users\\\\nares\\\\anaconda3\\\\Lib\\\\site-packages', 'c:\\\\Users\\\\nares\\\\anaconda3\\\\Lib\\\\site-packages\\\\win32', 'c:\\\\Users\\\\nares\\\\anaconda3\\\\Lib\\\\site-packages\\\\win32\\\\lib', 'c:\\\\Users\\\\nares\\\\anaconda3\\\\Lib\\\\site-packages\\\\Pythonwin']\n"
     ]
    }
   ],
   "source": [
    "import sys\n",
    "print(sys.path)"
   ]
  },
  {
   "cell_type": "code",
   "execution_count": 5,
   "id": "beccad9b",
   "metadata": {},
   "outputs": [
    {
     "name": "stdout",
     "output_type": "stream",
     "text": [
      "3.11.7\n"
     ]
    }
   ],
   "source": [
    "from platform import python_version\n",
    "print(python_version())"
   ]
  },
  {
   "cell_type": "code",
   "execution_count": 6,
   "id": "588696c1",
   "metadata": {},
   "outputs": [],
   "source": [
    "from langchain.document_loaders.text import TextLoader\n",
    "from langchain.vectorstores import Chroma\n",
    "from langchain.text_splitter import RecursiveCharacterTextSplitter\n",
    "from langchain.embeddings import OpenAIEmbeddings\n"
   ]
  },
  {
   "cell_type": "code",
   "execution_count": 7,
   "id": "cf91e540",
   "metadata": {},
   "outputs": [
    {
     "data": {
      "text/plain": [
       "Document(metadata={'source': 'nvidia.txt'}, page_content=\"Nvidia unveils new GeForce RTX 5090, RTX 5080, RTX 5070 Ti, and RTX 5070 graphics cards at CES 2025. Nvidia unveils new GeForce RTX 5090, RTX 5080, RTX 5070 Ti, and RTX 5070 graphics cards at CES 2025\\nNews\\nBy Christian Guyton published 7 January 2025\\nAs expected, Nvidia's newest graphics cards are now official\\n\\n\\n \\n \\n \\n \\n \\n \\nWhen you purchase through links on our site, we may earn an affiliate commission. Here’s how it works.\\n\\nAn Nvidia GeForce RTX 5000 GPU on a green patterned background.\\n(Image credit: Nvidia)\\nNvidia's RTX 5000 series cards have been announced\\nRTX 5090 costs $1,999 / £1,999 / AU$4,039\\n5090 and 5080 go on sale January 30\\nAfter months of speculation and anticipation, Nvidia finally lifted the cover off its latest lineup of consumer graphics cards, the Nvidia GeForce RTX 5000 series, starting with the flagship RTX 5090.\\n\\nNvidia CEO Jensen Huang made the announcement at a packed arena at Las Vegas's Mandalay Bay resort and casino, a headline event that topped off a day of major reveals from rivals AMD and Intel at CES 2025.\\n\\nHowever, the Nvidia RTX 5000 series graphics cards were always going to steal the show, no matter what anyone else announced, so Huang naturally had the limelight on Monday night as he unveiled our first definitive look at the RTX 5090 - amongst other new GPUs and fancy AI features.\\n\\nLatest Videos From TechRadar\\nYou may like\\nNvidia logo and RTX 5080 render\\nNeed a new GPU? Nvidia's RTX 5000 Super models may be coming sooner than you expect\\nUpset PC gamer with head in hands by his PC\\nAsus and other Nvidia partner GPUs have been listed on Best Buy - and the price tags might seem like a big joke\\nNvidia RTX Pro 6000\\nForget the RTX 5090, this monster is Nvidia's fastest GPU ever manufactured - but it will cost you a small fortune to buy one\\nMeet Nvidia's new flagship GPU, the Nvidia Tita— I mean the Nvidia RTX 5090\\nIt might not be called the Nvidia Titan RTX, but the RTX 5090 might as well be, given the specs on offer and its downright scandalous MSRP of $1,999 (£1,999 / AU$4,039) - not a generational price bump from the RTX 4090, granted, but still a ludicrous amount of money for an ostensibly 'consumer' graphics card.\\n\\nWith an astounding 92 billion transistors, next-gen Tensor Cores and Ray Tracing Cores, and more than double the AI processing speed of the 4090, the RTX 5090 will unquestionably be the most powerful consumer graphics card on the planet, and it won't even be close.\\n\\nPair the GPU specs with 32GB of shiny new GDDR7 VRAM on a massive 512-bit memory bus and PCIe 5.0 x16 interface, it has an astonishing 1792 GB/s of memory bandwidth, with a memory speed upwards of 23.8 Gbps.\\n\\nAn Nvidia Blackwell GPU die render.\\n\\n(Image credit: Nvidia)\\nGiven its specs, not only will this graphics card absolutely blow through native 4K gaming (without upscaling) at the highest settings (including ray tracing), it's arguably the first real 8K graphics card given the amount of VRAM it has and its memory bandwidth, two key specs that allow a graphics card to process the substantially larger 8K texture files needed for gaming at that resolution.\\n\\nGet daily insight, inspiration and deals in your inbox\\nSign up for breaking news, reviews, opinion, top tech deals, and more.\\n\\nYour Email Address\\nContact me with news and offers from other Future brands\\nReceive email from us on behalf of our trusted partners or sponsors\\nBy submitting your information you agree to the Terms & Conditions and Privacy Policy and are aged 16 or over.\\nOf course, few games even support 8K resolution, much less have developers and artists effectively wasting their time on texture files so large that only a rare few will ever see them as intended. But there's no doubt that if 8K gaming ever becomes a thing, the RTX 5090 will be more than ready to meet the challenge.\\n\\nOf course, that doesn't really address the fact that this is no longer a gaming GPU— not anymore, and not at this price. And if (well, when) scalpers get involved, it's going to be far worse.\\n\\nAfter all, we called the $1,199 price tag on the flagship RTX 2080 Ti 'almost obscene' in our review three GPU generations ago. With no generational price drop from the already wildly expensive RTX 4090, it's not hard to argue that the RTX 5090 is purely a professional workstation GPU, meant to process raw 4K video streams or render lengthy 3D generated sequences at Pixar or some other animation studio. As fun as it might be, this is not a graphics card meant to play Wolfenstein 3D.\\n\\nThe Nvidia GeForce RTX 5090 is set to go on sale for $1,999 on January 30.\\n\\nThe Nvidia GeForce RTX 5080 will launch alongside the 5090\\nIn a move that has been telegraphed for a while, the Nvidia GeForce RTX 5080 will also be part of the first wave of Nvidia's new graphics cards to hit store shelves later this month.\\n\\nThe Nvidia RTX 5080 GPU on a green background.\\n\\n(Image credit: Nvidia)\\nThe RTX 5080 looks to be almost exactly half of the RTX 5090 in terms of specs. Although Nvidia has yet to release a comprehensive spec sheet for the new GPUs - a strange move, though likely one designed to avoid distracting from all the new AI features - we know that the 5080 has 1,801 AI TOPS (trillion operations per second), a little under half the RTX 5090's 3,352.\\n\\nIt also has new GDDR7 VRAM as well, with a pool of 16GB on a 256-bit memory bus for 960 GB/s of memory bandwidth - again, basically half the specs of the 5090's VRAM. Its memory speed is a blazing fast 30 Gbps, which helps make up for the narrower memory bus.\\n\\nThe card will go on January 21st with an MSRP of $999 (expected £999 / AU$2,019), which again matches the launch price of the previous-gen RTX 4080.\\n\\nNvidia RTX 5070 and RTX 5070 Ti also unveiled - but you'll have to wait\\nThe Nvidia RTX 5070 and 5070 Ti also debuted on Monday night, likely an effort from Nvidia to reassure gamers that they haven't forgotten about the midrange market - especially with its main rival AMD refocusing to target the budget and midrange space exclusively with its new GPUs.\\n\\nAgain, we don't have the breadth of specs we'd hoped to see at this point, but we do know that the RTX 5070 Ti offers 1,406 AI TOPS while the RTX 5070 has 988 TOPS. As a rough point of comparison, Apple's new M4 chip caps out at around 38 TOPS - so a dedicated GPU is arguably still a necessity for serious AI workloads.\\n\\nOver on the VRAM front, the RTX 5070 Ti's memory profile is nearly identical to the RTX 5080, with 16GB GDDR7, a memory speed of 28 Gbps on a 256-bit bus, and a memory bandwidth of 896 GB/s, making it more than ready for 4K gaming. Meanwhile, the RTX 5070 has 12GB of GDDR7 at 672 GB/sec - still faster than the RTX 4070, though the same base amount of VRAM.\\n\\nA selection of third-party RTX 5000 GPUs.\\n\\n(Image credit: Nvidia)\\nThe Nvidia GeForce RTX 5070 and 5070 Ti will go on sale in February - date to be confirmed - with respective retail prices of $549 (£549 / AU$1,509) and $749 (£749 / AU$1,109). This is actually quite pleasing to see, since the RTX 4070 retailed at $599 - meaning we finally have a generational price drop from Nvidia.\\n\\nDLSS 4, Reflex 2, and more\\nIn addition to the new hardware, Nvidia also showcased a selection of upgraded AI features debuting with the 'Blackwell' RTX 5000 generation of graphics cards.\\n\\nChief among these, of course, was DLSS 4 - the latest update to Nvidia's resolution upscaling software, which allows for better framerates in-game by rendering the game at a lower resolution and upscaling it to a target resolution (say, 1080p to 4K) using AI.\\n\\nDLSS 4 will also feature 'Multi Frame Generation', an improved version of the Frame Generation tech seen in the RTX 4000 generation, which uses AI to extrapolate and produce additional frames and 'insert' them between ordinary rendered frames to boost framerate. Unfortunately for users on older GPUs, only the regular DLSS 4 upscaling will be available on older cards; Multi Frame-Gen will be exclusive to RTX 5000 cards.\\n\\nWe're also getting Nvidia Reflex 2, a new version of the Reflex software for reducing input latency in games. Reflex 2 will feature 'Frame Warp', which aims to proactively insert generated frames by reading mouse input before it even reaches the display - this can reportedly reduce input latency by as much as 75%.\\n\\nRTX 5000 is also bringing AI powers to shader tech with new RTX Neural Shaders. This uses small AI networks in the GPU's programmable shader units to deliver 'film-quality' shading and lighting in-game. 'RTX Neural Faces', along with new RTX tech for hair and skin rendering and animation, promises to deliver more realistic humans than ever before.\\n\\nLastly, we can expect to see more of Nvidia ACE with this generation of RTX GPUs - the improved AI capabilities of the Blackwell generation mean that projects like Nvidia's (slightly creepy) AI NPC tech can be implemented on a wider level, with ACE-powered characters planned to appear in a handful of titles including PUBG: Battlegrounds and InZOI.\\n\\nYou might also like...\\nNvidia CES 2025 Keynote live blog: all the latest on the RTX 5000 reveal and more\\nAMD announces new Radeon RX 9070 XT and RX 9070 graphics cards at CES 2025\\nRazer Blade 16 announced at CES 2025 with an Nvidia RTX 5090 GPU – but Intel has been dumped\\nSee more Computing News \\nTOPICS\\nNvidia\\nCES\\nChristian Guyton\\nChristian Guyton\\nEditor, Computing\\nChristian is TechRadar’s UK-based Computing Editor. He came to us from Maximum PC magazine, where he fell in love with computer hardware and building PCs. He was a regular fixture amongst our freelance review team before making the jump to TechRadar, and can usually be found drooling over the latest high-end graphics card or gaming laptop before looking at his bank account balance and crying.\\n\\n\\n\\nChristian is a keen campaigner for LGBTQ+ rights and the owner of a charming rescue dog named Lucy, having adopted her after he beat cancer in 2021. She keeps him fit and healthy through a combination of face-licking and long walks, and only occasionally barks at him to demand treats when he’s trying to work from home.\")"
      ]
     },
     "execution_count": 7,
     "metadata": {},
     "output_type": "execute_result"
    }
   ],
   "source": [
    "text_loader = TextLoader(\"nvidia.txt\", encoding=\"utf8\")\n",
    "data = text_loader.load()\n",
    "data[0]"
   ]
  },
  {
   "cell_type": "code",
   "execution_count": 8,
   "id": "ef197323",
   "metadata": {},
   "outputs": [
    {
     "data": {
      "text/plain": [
       "\"Nvidia unveils new GeForce RTX 5090, RTX 5080, RTX 5070 Ti, and RTX 5070 graphics cards at CES 2025. Nvidia unveils new GeForce RTX 5090, RTX 5080, RTX 5070 Ti, and RTX 5070 graphics cards at CES 2025\\nNews\\nBy Christian Guyton published 7 January 2025\\nAs expected, Nvidia's newest graphics cards are now official\\n\\n\\n \\n \\n \\n \\n \\n \\nWhen you purchase through links on our site, we may earn an affiliate commission. Here’s how it works.\\n\\nAn Nvidia GeForce RTX 5000 GPU on a green patterned background.\\n(Image credit: Nvidia)\\nNvidia's RTX 5000 series cards have been announced\\nRTX 5090 costs $1,999 / £1,999 / AU$4,039\\n5090 and 5080 go on sale January 30\\nAfter months of speculation and anticipation, Nvidia finally lifted the cover off its latest lineup of consumer graphics cards, the Nvidia GeForce RTX 5000 series, starting with the flagship RTX 5090.\\n\\nNvidia CEO Jensen Huang made the announcement at a packed arena at Las Vegas's Mandalay Bay resort and casino, a headline event that topped off a day of major reveals from rivals AMD and Intel at CES 2025.\\n\\nHowever, the Nvidia RTX 5000 series graphics cards were always going to steal the show, no matter what anyone else announced, so Huang naturally had the limelight on Monday night as he unveiled our first definitive look at the RTX 5090 - amongst other new GPUs and fancy AI features.\\n\\nLatest Videos From TechRadar\\nYou may like\\nNvidia logo and RTX 5080 render\\nNeed a new GPU? Nvidia's RTX 5000 Super models may be coming sooner than you expect\\nUpset PC gamer with head in hands by his PC\\nAsus and other Nvidia partner GPUs have been listed on Best Buy - and the price tags might seem like a big joke\\nNvidia RTX Pro 6000\\nForget the RTX 5090, this monster is Nvidia's fastest GPU ever manufactured - but it will cost you a small fortune to buy one\\nMeet Nvidia's new flagship GPU, the Nvidia Tita— I mean the Nvidia RTX 5090\\nIt might not be called the Nvidia Titan RTX, but the RTX 5090 might as well be, given the specs on offer and its downright scandalous MSRP of $1,999 (£1,999 / AU$4,039) - not a generational price bump from the RTX 4090, granted, but still a ludicrous amount of money for an ostensibly 'consumer' graphics card.\\n\\nWith an astounding 92 billion transistors, next-gen Tensor Cores and Ray Tracing Cores, and more than double the AI processing speed of the 4090, the RTX 5090 will unquestionably be the most powerful consumer graphics card on the planet, and it won't even be close.\\n\\nPair the GPU specs with 32GB of shiny new GDDR7 VRAM on a massive 512-bit memory bus and PCIe 5.0 x16 interface, it has an astonishing 1792 GB/s of memory bandwidth, with a memory speed upwards of 23.8 Gbps.\\n\\nAn Nvidia Blackwell GPU die render.\\n\\n(Image credit: Nvidia)\\nGiven its specs, not only will this graphics card absolutely blow through native 4K gaming (without upscaling) at the highest settings (including ray tracing), it's arguably the first real 8K graphics card given the amount of VRAM it has and its memory bandwidth, two key specs that allow a graphics card to process the substantially larger 8K texture files needed for gaming at that resolution.\\n\\nGet daily insight, inspiration and deals in your inbox\\nSign up for breaking news, reviews, opinion, top tech deals, and more.\\n\\nYour Email Address\\nContact me with news and offers from other Future brands\\nReceive email from us on behalf of our trusted partners or sponsors\\nBy submitting your information you agree to the Terms & Conditions and Privacy Policy and are aged 16 or over.\\nOf course, few games even support 8K resolution, much less have developers and artists effectively wasting their time on texture files so large that only a rare few will ever see them as intended. But there's no doubt that if 8K gaming ever becomes a thing, the RTX 5090 will be more than ready to meet the challenge.\\n\\nOf course, that doesn't really address the fact that this is no longer a gaming GPU— not anymore, and not at this price. And if (well, when) scalpers get involved, it's going to be far worse.\\n\\nAfter all, we called the $1,199 price tag on the flagship RTX 2080 Ti 'almost obscene' in our review three GPU generations ago. With no generational price drop from the already wildly expensive RTX 4090, it's not hard to argue that the RTX 5090 is purely a professional workstation GPU, meant to process raw 4K video streams or render lengthy 3D generated sequences at Pixar or some other animation studio. As fun as it might be, this is not a graphics card meant to play Wolfenstein 3D.\\n\\nThe Nvidia GeForce RTX 5090 is set to go on sale for $1,999 on January 30.\\n\\nThe Nvidia GeForce RTX 5080 will launch alongside the 5090\\nIn a move that has been telegraphed for a while, the Nvidia GeForce RTX 5080 will also be part of the first wave of Nvidia's new graphics cards to hit store shelves later this month.\\n\\nThe Nvidia RTX 5080 GPU on a green background.\\n\\n(Image credit: Nvidia)\\nThe RTX 5080 looks to be almost exactly half of the RTX 5090 in terms of specs. Although Nvidia has yet to release a comprehensive spec sheet for the new GPUs - a strange move, though likely one designed to avoid distracting from all the new AI features - we know that the 5080 has 1,801 AI TOPS (trillion operations per second), a little under half the RTX 5090's 3,352.\\n\\nIt also has new GDDR7 VRAM as well, with a pool of 16GB on a 256-bit memory bus for 960 GB/s of memory bandwidth - again, basically half the specs of the 5090's VRAM. Its memory speed is a blazing fast 30 Gbps, which helps make up for the narrower memory bus.\\n\\nThe card will go on January 21st with an MSRP of $999 (expected £999 / AU$2,019), which again matches the launch price of the previous-gen RTX 4080.\\n\\nNvidia RTX 5070 and RTX 5070 Ti also unveiled - but you'll have to wait\\nThe Nvidia RTX 5070 and 5070 Ti also debuted on Monday night, likely an effort from Nvidia to reassure gamers that they haven't forgotten about the midrange market - especially with its main rival AMD refocusing to target the budget and midrange space exclusively with its new GPUs.\\n\\nAgain, we don't have the breadth of specs we'd hoped to see at this point, but we do know that the RTX 5070 Ti offers 1,406 AI TOPS while the RTX 5070 has 988 TOPS. As a rough point of comparison, Apple's new M4 chip caps out at around 38 TOPS - so a dedicated GPU is arguably still a necessity for serious AI workloads.\\n\\nOver on the VRAM front, the RTX 5070 Ti's memory profile is nearly identical to the RTX 5080, with 16GB GDDR7, a memory speed of 28 Gbps on a 256-bit bus, and a memory bandwidth of 896 GB/s, making it more than ready for 4K gaming. Meanwhile, the RTX 5070 has 12GB of GDDR7 at 672 GB/sec - still faster than the RTX 4070, though the same base amount of VRAM.\\n\\nA selection of third-party RTX 5000 GPUs.\\n\\n(Image credit: Nvidia)\\nThe Nvidia GeForce RTX 5070 and 5070 Ti will go on sale in February - date to be confirmed - with respective retail prices of $549 (£549 / AU$1,509) and $749 (£749 / AU$1,109). This is actually quite pleasing to see, since the RTX 4070 retailed at $599 - meaning we finally have a generational price drop from Nvidia.\\n\\nDLSS 4, Reflex 2, and more\\nIn addition to the new hardware, Nvidia also showcased a selection of upgraded AI features debuting with the 'Blackwell' RTX 5000 generation of graphics cards.\\n\\nChief among these, of course, was DLSS 4 - the latest update to Nvidia's resolution upscaling software, which allows for better framerates in-game by rendering the game at a lower resolution and upscaling it to a target resolution (say, 1080p to 4K) using AI.\\n\\nDLSS 4 will also feature 'Multi Frame Generation', an improved version of the Frame Generation tech seen in the RTX 4000 generation, which uses AI to extrapolate and produce additional frames and 'insert' them between ordinary rendered frames to boost framerate. Unfortunately for users on older GPUs, only the regular DLSS 4 upscaling will be available on older cards; Multi Frame-Gen will be exclusive to RTX 5000 cards.\\n\\nWe're also getting Nvidia Reflex 2, a new version of the Reflex software for reducing input latency in games. Reflex 2 will feature 'Frame Warp', which aims to proactively insert generated frames by reading mouse input before it even reaches the display - this can reportedly reduce input latency by as much as 75%.\\n\\nRTX 5000 is also bringing AI powers to shader tech with new RTX Neural Shaders. This uses small AI networks in the GPU's programmable shader units to deliver 'film-quality' shading and lighting in-game. 'RTX Neural Faces', along with new RTX tech for hair and skin rendering and animation, promises to deliver more realistic humans than ever before.\\n\\nLastly, we can expect to see more of Nvidia ACE with this generation of RTX GPUs - the improved AI capabilities of the Blackwell generation mean that projects like Nvidia's (slightly creepy) AI NPC tech can be implemented on a wider level, with ACE-powered characters planned to appear in a handful of titles including PUBG: Battlegrounds and InZOI.\\n\\nYou might also like...\\nNvidia CES 2025 Keynote live blog: all the latest on the RTX 5000 reveal and more\\nAMD announces new Radeon RX 9070 XT and RX 9070 graphics cards at CES 2025\\nRazer Blade 16 announced at CES 2025 with an Nvidia RTX 5090 GPU – but Intel has been dumped\\nSee more Computing News \\nTOPICS\\nNvidia\\nCES\\nChristian Guyton\\nChristian Guyton\\nEditor, Computing\\nChristian is TechRadar’s UK-based Computing Editor. He came to us from Maximum PC magazine, where he fell in love with computer hardware and building PCs. He was a regular fixture amongst our freelance review team before making the jump to TechRadar, and can usually be found drooling over the latest high-end graphics card or gaming laptop before looking at his bank account balance and crying.\\n\\n\\n\\nChristian is a keen campaigner for LGBTQ+ rights and the owner of a charming rescue dog named Lucy, having adopted her after he beat cancer in 2021. She keeps him fit and healthy through a combination of face-licking and long walks, and only occasionally barks at him to demand treats when he’s trying to work from home.\""
      ]
     },
     "execution_count": 8,
     "metadata": {},
     "output_type": "execute_result"
    }
   ],
   "source": [
    "data[0].page_content"
   ]
  },
  {
   "cell_type": "code",
   "execution_count": 9,
   "id": "de69f09c",
   "metadata": {},
   "outputs": [
    {
     "data": {
      "text/plain": [
       "{'source': 'nvidia.txt'}"
      ]
     },
     "execution_count": 9,
     "metadata": {},
     "output_type": "execute_result"
    }
   ],
   "source": [
    "data[0].metadata"
   ]
  },
  {
   "cell_type": "code",
   "execution_count": 10,
   "id": "c1763c01",
   "metadata": {},
   "outputs": [],
   "source": [
    "from langchain.document_loaders import CSVLoader"
   ]
  },
  {
   "cell_type": "code",
   "execution_count": 11,
   "id": "bc10ad54",
   "metadata": {},
   "outputs": [
    {
     "data": {
      "text/plain": [
       "'ticket_id: 1\\ncustomer_id: C123\\nticket_text: Internet is slow and disconnects frequently.\\nissue_type: Connectivity\\nresolution_time: 45'"
      ]
     },
     "execution_count": 11,
     "metadata": {},
     "output_type": "execute_result"
    }
   ],
   "source": [
    "csvdata = CSVLoader('data.csv', source_column='issue_type')\n",
    "csv_data = csvdata.load()\n",
    "csv_data[0].page_content"
   ]
  },
  {
   "cell_type": "code",
   "execution_count": 12,
   "id": "34a4160a",
   "metadata": {},
   "outputs": [
    {
     "data": {
      "text/plain": [
       "[Document(metadata={'source': 'Connectivity', 'row': 0}, page_content='ticket_id: 1\\ncustomer_id: C123\\nticket_text: Internet is slow and disconnects frequently.\\nissue_type: Connectivity\\nresolution_time: 45'),\n",
       " Document(metadata={'source': 'Plan Upgrade', 'row': 1}, page_content='ticket_id: 2\\ncustomer_id: C124\\nticket_text: I want to upgrade my broadband plan.\\nissue_type: Plan Upgrade\\nresolution_time: 15'),\n",
       " Document(metadata={'source': 'Outage', 'row': 2}, page_content='ticket_id: 3\\ncustomer_id: C125\\nticket_text: My landline has stopped working since morning.\\nissue_type: Outage\\nresolution_time: 70'),\n",
       " Document(metadata={'source': 'Escalation', 'row': 3}, page_content='ticket_id: 4\\ncustomer_id: C123\\nticket_text: Still not resolved. I raised this last week!\\nissue_type: Escalation\\nresolution_time: 120'),\n",
       " Document(metadata={'source': 'Plan Upgrade', 'row': 4}, page_content='ticket_id: 5\\ncustomer_id: C126\\nticket_text: Please upgrade my plan to the premium option.\\nissue_type: Plan Upgrade\\nresolution_time: 20'),\n",
       " Document(metadata={'source': 'Outage', 'row': 5}, page_content='ticket_id: 6\\ncustomer_id: C127\\nticket_text: No internet since last night. Please help!\\nissue_type: Outage\\nresolution_time: 90'),\n",
       " Document(metadata={'source': 'Billing', 'row': 6}, page_content='ticket_id: 7\\ncustomer_id: C128\\nticket_text: Billing is incorrect for this month.\\nissue_type: Billing\\nresolution_time: 30'),\n",
       " Document(metadata={'source': 'Plan Upgrade', 'row': 7}, page_content='ticket_id: 8\\ncustomer_id: C124\\nticket_text: Need a faster plan. Looking to upgrade.\\nissue_type: Plan Upgrade\\nresolution_time: 18'),\n",
       " Document(metadata={'source': 'Connectivity', 'row': 8}, page_content='ticket_id: 9\\ncustomer_id: C129\\nticket_text: Internet drops every few minutes. Very frustrating.\\nissue_type: Connectivity\\nresolution_time: 60'),\n",
       " Document(metadata={'source': 'Escalation', 'row': 9}, page_content='ticket_id: 10\\ncustomer_id: C130\\nticket_text: Raised multiple tickets. No resolution yet!\\nissue_type: Escalation\\nresolution_time: 150'),\n",
       " Document(metadata={'source': 'Plan Upgrade', 'row': 10}, page_content='ticket_id: 11\\ncustomer_id: C131\\nticket_text: How do I upgrade to a better speed?\\nissue_type: Plan Upgrade\\nresolution_time: 22'),\n",
       " Document(metadata={'source': 'Connectivity', 'row': 11}, page_content='ticket_id: 12\\ncustomer_id: C132\\nticket_text: Router keeps resetting automatically.\\nissue_type: Connectivity\\nresolution_time: 50'),\n",
       " Document(metadata={'source': 'Outage', 'row': 12}, page_content='ticket_id: 13\\ncustomer_id: C133\\nticket_text: Landline has no dial tone since yesterday.\\nissue_type: Outage\\nresolution_time: 65'),\n",
       " Document(metadata={'source': 'Billing', 'row': 13}, page_content='ticket_id: 14\\ncustomer_id: C134\\nticket_text: Incorrect charges applied to my bill.\\nissue_type: Billing\\nresolution_time: 25'),\n",
       " Document(metadata={'source': 'Escalation', 'row': 14}, page_content='ticket_id: 15\\ncustomer_id: C135\\nticket_text: I need to know the status of my raised complaint.\\nissue_type: Escalation\\nresolution_time: 80'),\n",
       " Document(metadata={'source': 'Connectivity', 'row': 15}, page_content='ticket_id: 16\\ncustomer_id: C123\\nticket_text: Internet slow again. This is the third time.\\nissue_type: Connectivity\\nresolution_time: 55'),\n",
       " Document(metadata={'source': 'Plan Upgrade', 'row': 16}, page_content='ticket_id: 17\\ncustomer_id: C136\\nticket_text: Upgrade my plan and reset my usage limits.\\nissue_type: Plan Upgrade\\nresolution_time: 17'),\n",
       " Document(metadata={'source': 'Billing', 'row': 17}, page_content='ticket_id: 18\\ncustomer_id: C137\\nticket_text: Why am I being charged extra this month?\\nissue_type: Billing\\nresolution_time: 35'),\n",
       " Document(metadata={'source': 'Connectivity', 'row': 18}, page_content='ticket_id: 19\\ncustomer_id: C138\\nticket_text: Facing repeated disconnections on broadband.\\nissue_type: Connectivity\\nresolution_time: 40'),\n",
       " Document(metadata={'source': 'Outage', 'row': 19}, page_content=\"ticket_id: 20\\ncustomer_id: C139\\nticket_text: Landline not working; can't make or receive calls.\\nissue_type: Outage\\nresolution_time: 75\"),\n",
       " Document(metadata={'source': None, 'row': 20}, page_content='ticket_id: \\ncustomer_id: None\\nticket_text: None\\nissue_type: None\\nresolution_time: None')]"
      ]
     },
     "execution_count": 12,
     "metadata": {},
     "output_type": "execute_result"
    }
   ],
   "source": [
    "csv_data"
   ]
  },
  {
   "cell_type": "code",
   "execution_count": 13,
   "id": "8eee455b",
   "metadata": {},
   "outputs": [
    {
     "data": {
      "text/plain": [
       "{'source': 'Connectivity', 'row': 0}"
      ]
     },
     "execution_count": 13,
     "metadata": {},
     "output_type": "execute_result"
    }
   ],
   "source": [
    "# It returns the source and content of the document for given index n metadata\n",
    "csv_data[0].metadata"
   ]
  },
  {
   "cell_type": "code",
   "execution_count": 14,
   "id": "d0c0c266",
   "metadata": {},
   "outputs": [
    {
     "data": {
      "text/plain": [
       "21"
      ]
     },
     "execution_count": 14,
     "metadata": {},
     "output_type": "execute_result"
    }
   ],
   "source": [
    "len(csv_data)"
   ]
  },
  {
   "cell_type": "code",
   "execution_count": 15,
   "id": "af48849a",
   "metadata": {},
   "outputs": [
    {
     "name": "stdout",
     "output_type": "stream",
     "text": [
      "Requirement already satisfied: unstructured in c:\\users\\nares\\anaconda3\\lib\\site-packages (0.18.11)\n",
      "Requirement already satisfied: libmagic in c:\\users\\nares\\anaconda3\\lib\\site-packages (1.0)\n",
      "Requirement already satisfied: python-magic in c:\\users\\nares\\anaconda3\\lib\\site-packages (0.4.27)\n",
      "Requirement already satisfied: python-magic-bin in c:\\users\\nares\\anaconda3\\lib\\site-packages (0.4.14)\n",
      "Requirement already satisfied: charset-normalizer in c:\\users\\nares\\anaconda3\\lib\\site-packages (from unstructured) (2.0.4)\n",
      "Requirement already satisfied: filetype in c:\\users\\nares\\anaconda3\\lib\\site-packages (from unstructured) (1.2.0)\n",
      "Requirement already satisfied: lxml in c:\\users\\nares\\anaconda3\\lib\\site-packages (from unstructured) (4.9.3)\n",
      "Requirement already satisfied: nltk in c:\\users\\nares\\anaconda3\\lib\\site-packages (from unstructured) (3.8.1)\n",
      "Requirement already satisfied: requests in c:\\users\\nares\\anaconda3\\lib\\site-packages (from unstructured) (2.31.0)\n",
      "Requirement already satisfied: beautifulsoup4 in c:\\users\\nares\\anaconda3\\lib\\site-packages (from unstructured) (4.12.2)\n",
      "Requirement already satisfied: emoji in c:\\users\\nares\\anaconda3\\lib\\site-packages (from unstructured) (2.14.1)\n",
      "Requirement already satisfied: dataclasses-json in c:\\users\\nares\\anaconda3\\lib\\site-packages (from unstructured) (0.6.7)\n",
      "Requirement already satisfied: python-iso639 in c:\\users\\nares\\anaconda3\\lib\\site-packages (from unstructured) (2025.2.18)\n",
      "Requirement already satisfied: langdetect in c:\\users\\nares\\anaconda3\\lib\\site-packages (from unstructured) (1.0.9)\n",
      "Requirement already satisfied: numpy in c:\\users\\nares\\anaconda3\\lib\\site-packages (from unstructured) (1.26.4)\n",
      "Requirement already satisfied: rapidfuzz in c:\\users\\nares\\anaconda3\\lib\\site-packages (from unstructured) (3.13.0)\n",
      "Requirement already satisfied: backoff in c:\\users\\nares\\anaconda3\\lib\\site-packages (from unstructured) (2.2.1)\n",
      "Requirement already satisfied: typing-extensions in c:\\users\\nares\\anaconda3\\lib\\site-packages (from unstructured) (4.14.1)\n",
      "Requirement already satisfied: unstructured-client in c:\\users\\nares\\anaconda3\\lib\\site-packages (from unstructured) (0.42.2)\n",
      "Requirement already satisfied: wrapt in c:\\users\\nares\\anaconda3\\lib\\site-packages (from unstructured) (1.14.1)\n",
      "Requirement already satisfied: tqdm in c:\\users\\nares\\anaconda3\\lib\\site-packages (from unstructured) (4.65.0)\n",
      "Requirement already satisfied: psutil in c:\\users\\nares\\anaconda3\\lib\\site-packages (from unstructured) (5.9.0)\n",
      "Requirement already satisfied: python-oxmsg in c:\\users\\nares\\anaconda3\\lib\\site-packages (from unstructured) (0.0.2)\n",
      "Requirement already satisfied: html5lib in c:\\users\\nares\\anaconda3\\lib\\site-packages (from unstructured) (1.1)\n",
      "Requirement already satisfied: soupsieve>1.2 in c:\\users\\nares\\anaconda3\\lib\\site-packages (from beautifulsoup4->unstructured) (2.5)\n",
      "Requirement already satisfied: marshmallow<4.0.0,>=3.18.0 in c:\\users\\nares\\anaconda3\\lib\\site-packages (from dataclasses-json->unstructured) (3.26.1)\n",
      "Requirement already satisfied: typing-inspect<1,>=0.4.0 in c:\\users\\nares\\anaconda3\\lib\\site-packages (from dataclasses-json->unstructured) (0.9.0)\n",
      "Requirement already satisfied: six>=1.9 in c:\\users\\nares\\anaconda3\\lib\\site-packages (from html5lib->unstructured) (1.16.0)\n",
      "Requirement already satisfied: webencodings in c:\\users\\nares\\anaconda3\\lib\\site-packages (from html5lib->unstructured) (0.5.1)\n",
      "Requirement already satisfied: click in c:\\users\\nares\\anaconda3\\lib\\site-packages (from nltk->unstructured) (8.1.7)\n",
      "Requirement already satisfied: joblib in c:\\users\\nares\\anaconda3\\lib\\site-packages (from nltk->unstructured) (1.5.1)\n",
      "Requirement already satisfied: regex>=2021.8.3 in c:\\users\\nares\\anaconda3\\lib\\site-packages (from nltk->unstructured) (2023.10.3)\n",
      "Requirement already satisfied: olefile in c:\\users\\nares\\anaconda3\\lib\\site-packages (from python-oxmsg->unstructured) (0.47)\n",
      "Requirement already satisfied: idna<4,>=2.5 in c:\\users\\nares\\anaconda3\\lib\\site-packages (from requests->unstructured) (3.4)\n",
      "Requirement already satisfied: urllib3<3,>=1.21.1 in c:\\users\\nares\\anaconda3\\lib\\site-packages (from requests->unstructured) (2.5.0)\n",
      "Requirement already satisfied: certifi>=2017.4.17 in c:\\users\\nares\\anaconda3\\lib\\site-packages (from requests->unstructured) (2025.8.3)\n",
      "Requirement already satisfied: colorama in c:\\users\\nares\\anaconda3\\lib\\site-packages (from tqdm->unstructured) (0.4.6)\n",
      "Requirement already satisfied: aiofiles>=24.1.0 in c:\\users\\nares\\anaconda3\\lib\\site-packages (from unstructured-client->unstructured) (24.1.0)\n",
      "Requirement already satisfied: cryptography>=3.1 in c:\\users\\nares\\anaconda3\\lib\\site-packages (from unstructured-client->unstructured) (42.0.2)\n",
      "Requirement already satisfied: httpcore>=1.0.9 in c:\\users\\nares\\anaconda3\\lib\\site-packages (from unstructured-client->unstructured) (1.0.9)\n",
      "Requirement already satisfied: httpx>=0.27.0 in c:\\users\\nares\\anaconda3\\lib\\site-packages (from unstructured-client->unstructured) (0.27.0)\n",
      "Requirement already satisfied: pydantic>=2.11.2 in c:\\users\\nares\\anaconda3\\lib\\site-packages (from unstructured-client->unstructured) (2.11.7)\n",
      "Requirement already satisfied: pypdf>=4.0 in c:\\users\\nares\\anaconda3\\lib\\site-packages (from unstructured-client->unstructured) (5.9.0)\n",
      "Requirement already satisfied: requests-toolbelt>=1.0.0 in c:\\users\\nares\\anaconda3\\lib\\site-packages (from unstructured-client->unstructured) (1.0.0)\n",
      "Requirement already satisfied: cffi>=1.12 in c:\\users\\nares\\anaconda3\\lib\\site-packages (from cryptography>=3.1->unstructured-client->unstructured) (1.16.0)\n",
      "Requirement already satisfied: h11>=0.16 in c:\\users\\nares\\anaconda3\\lib\\site-packages (from httpcore>=1.0.9->unstructured-client->unstructured) (0.16.0)\n",
      "Requirement already satisfied: anyio in c:\\users\\nares\\anaconda3\\lib\\site-packages (from httpx>=0.27.0->unstructured-client->unstructured) (4.2.0)\n",
      "Requirement already satisfied: sniffio in c:\\users\\nares\\anaconda3\\lib\\site-packages (from httpx>=0.27.0->unstructured-client->unstructured) (1.3.0)\n",
      "Requirement already satisfied: packaging>=17.0 in c:\\users\\nares\\anaconda3\\lib\\site-packages (from marshmallow<4.0.0,>=3.18.0->dataclasses-json->unstructured) (25.0)\n",
      "Requirement already satisfied: annotated-types>=0.6.0 in c:\\users\\nares\\anaconda3\\lib\\site-packages (from pydantic>=2.11.2->unstructured-client->unstructured) (0.7.0)\n",
      "Requirement already satisfied: pydantic-core==2.33.2 in c:\\users\\nares\\anaconda3\\lib\\site-packages (from pydantic>=2.11.2->unstructured-client->unstructured) (2.33.2)\n",
      "Requirement already satisfied: typing-inspection>=0.4.0 in c:\\users\\nares\\anaconda3\\lib\\site-packages (from pydantic>=2.11.2->unstructured-client->unstructured) (0.4.1)\n",
      "Requirement already satisfied: mypy-extensions>=0.3.0 in c:\\users\\nares\\anaconda3\\lib\\site-packages (from typing-inspect<1,>=0.4.0->dataclasses-json->unstructured) (1.0.0)\n",
      "Requirement already satisfied: pycparser in c:\\users\\nares\\anaconda3\\lib\\site-packages (from cffi>=1.12->cryptography>=3.1->unstructured-client->unstructured) (2.21)\n"
     ]
    }
   ],
   "source": [
    "!pip3 install unstructured libmagic python-magic python-magic-bin"
   ]
  },
  {
   "cell_type": "code",
   "execution_count": 16,
   "id": "190ff9a1",
   "metadata": {},
   "outputs": [],
   "source": [
    "from langchain.document_loaders import UnstructuredURLLoader"
   ]
  },
  {
   "cell_type": "code",
   "execution_count": 19,
   "id": "1292cf53",
   "metadata": {},
   "outputs": [
    {
     "name": "stderr",
     "output_type": "stream",
     "text": [
      "Error fetching or processing h, exception: Invalid URL 'h': No scheme supplied. Perhaps you meant https://h?\n",
      "Error fetching or processing t, exception: Invalid URL 't': No scheme supplied. Perhaps you meant https://t?\n",
      "Error fetching or processing t, exception: Invalid URL 't': No scheme supplied. Perhaps you meant https://t?\n",
      "Error fetching or processing p, exception: Invalid URL 'p': No scheme supplied. Perhaps you meant https://p?\n",
      "Error fetching or processing s, exception: Invalid URL 's': No scheme supplied. Perhaps you meant https://s?\n",
      "Error fetching or processing :, exception: No connection adapters were found for ':'\n",
      "Error fetching or processing /, exception: Invalid URL '/': No scheme supplied. Perhaps you meant https:///?\n",
      "Error fetching or processing /, exception: Invalid URL '/': No scheme supplied. Perhaps you meant https:///?\n",
      "Error fetching or processing e, exception: Invalid URL 'e': No scheme supplied. Perhaps you meant https://e?\n",
      "Error fetching or processing n, exception: Invalid URL 'n': No scheme supplied. Perhaps you meant https://n?\n",
      "Error fetching or processing ., exception: Invalid URL '.': No scheme supplied. Perhaps you meant https://.?\n",
      "Error fetching or processing w, exception: Invalid URL 'w': No scheme supplied. Perhaps you meant https://w?\n",
      "Error fetching or processing i, exception: Invalid URL 'i': No scheme supplied. Perhaps you meant https://i?\n",
      "Error fetching or processing k, exception: Invalid URL 'k': No scheme supplied. Perhaps you meant https://k?\n",
      "Error fetching or processing i, exception: Invalid URL 'i': No scheme supplied. Perhaps you meant https://i?\n",
      "Error fetching or processing p, exception: Invalid URL 'p': No scheme supplied. Perhaps you meant https://p?\n",
      "Error fetching or processing e, exception: Invalid URL 'e': No scheme supplied. Perhaps you meant https://e?\n",
      "Error fetching or processing d, exception: Invalid URL 'd': No scheme supplied. Perhaps you meant https://d?\n",
      "Error fetching or processing i, exception: Invalid URL 'i': No scheme supplied. Perhaps you meant https://i?\n",
      "Error fetching or processing a, exception: Invalid URL 'a': No scheme supplied. Perhaps you meant https://a?\n",
      "Error fetching or processing ., exception: Invalid URL '.': No scheme supplied. Perhaps you meant https://.?\n",
      "Error fetching or processing o, exception: Invalid URL 'o': No scheme supplied. Perhaps you meant https://o?\n",
      "Error fetching or processing r, exception: Invalid URL 'r': No scheme supplied. Perhaps you meant https://r?\n",
      "Error fetching or processing g, exception: Invalid URL 'g': No scheme supplied. Perhaps you meant https://g?\n",
      "Error fetching or processing /, exception: Invalid URL '/': No scheme supplied. Perhaps you meant https:///?\n",
      "Error fetching or processing w, exception: Invalid URL 'w': No scheme supplied. Perhaps you meant https://w?\n",
      "Error fetching or processing i, exception: Invalid URL 'i': No scheme supplied. Perhaps you meant https://i?\n",
      "Error fetching or processing k, exception: Invalid URL 'k': No scheme supplied. Perhaps you meant https://k?\n",
      "Error fetching or processing i, exception: Invalid URL 'i': No scheme supplied. Perhaps you meant https://i?\n",
      "Error fetching or processing /, exception: Invalid URL '/': No scheme supplied. Perhaps you meant https:///?\n",
      "Error fetching or processing O, exception: Invalid URL 'O': No scheme supplied. Perhaps you meant https://O?\n",
      "Error fetching or processing p, exception: Invalid URL 'p': No scheme supplied. Perhaps you meant https://p?\n",
      "Error fetching or processing p, exception: Invalid URL 'p': No scheme supplied. Perhaps you meant https://p?\n",
      "Error fetching or processing o, exception: Invalid URL 'o': No scheme supplied. Perhaps you meant https://o?\n"
     ]
    }
   ],
   "source": [
    "uloader = UnstructuredURLLoader('https://en.wikipedia.org/wiki/Oppo')\n",
    "unstruct_data = uloader.load()"
   ]
  },
  {
   "cell_type": "code",
   "execution_count": 18,
   "id": "773211fb",
   "metadata": {},
   "outputs": [
    {
     "data": {
      "text/plain": [
       "0"
      ]
     },
     "execution_count": 18,
     "metadata": {},
     "output_type": "execute_result"
    }
   ],
   "source": [
    "len(unstruct_data)\n"
   ]
  },
  {
   "cell_type": "code",
   "execution_count": null,
   "id": "8024fd9a",
   "metadata": {},
   "outputs": [],
   "source": []
  },
  {
   "cell_type": "code",
   "execution_count": null,
   "id": "01d417ec",
   "metadata": {},
   "outputs": [],
   "source": []
  }
 ],
 "metadata": {
  "kernelspec": {
   "display_name": "base",
   "language": "python",
   "name": "python3"
  },
  "language_info": {
   "codemirror_mode": {
    "name": "ipython",
    "version": 3
   },
   "file_extension": ".py",
   "mimetype": "text/x-python",
   "name": "python",
   "nbconvert_exporter": "python",
   "pygments_lexer": "ipython3",
   "version": "3.11.7"
  }
 },
 "nbformat": 4,
 "nbformat_minor": 5
}
